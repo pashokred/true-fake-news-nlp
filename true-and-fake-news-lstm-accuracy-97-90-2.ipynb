{
 "cells": [
  {
   "cell_type": "code",
   "execution_count": 1,
   "metadata": {
    "_cell_guid": "b1076dfc-b9ad-4769-8c92-a6c4dae69d19",
    "_uuid": "8f2839f25d086af736a60e9eeb907d3b93b6e0e5",
    "execution": {
     "iopub.execute_input": "2024-05-02T00:13:20.308308Z",
     "iopub.status.busy": "2024-05-02T00:13:20.307926Z",
     "iopub.status.idle": "2024-05-02T00:13:21.236229Z",
     "shell.execute_reply": "2024-05-02T00:13:21.235290Z",
     "shell.execute_reply.started": "2024-05-02T00:13:20.308275Z"
    },
    "trusted": true
   },
   "outputs": [],
   "source": [
    "import pandas as pd"
   ]
  },
  {
   "cell_type": "markdown",
   "metadata": {},
   "source": [
    "# Завантажуємо дані"
   ]
  },
  {
   "cell_type": "code",
   "execution_count": 2,
   "metadata": {
    "execution": {
     "iopub.execute_input": "2024-05-02T00:13:21.239299Z",
     "iopub.status.busy": "2024-05-02T00:13:21.238206Z",
     "iopub.status.idle": "2024-05-02T00:13:24.282799Z",
     "shell.execute_reply": "2024-05-02T00:13:24.281893Z",
     "shell.execute_reply.started": "2024-05-02T00:13:21.239258Z"
    },
    "trusted": true
   },
   "outputs": [],
   "source": [
    "Fake=pd.read_csv(\"Fake.csv\")\n",
    "true=pd.read_csv(\"True.csv\")"
   ]
  },
  {
   "cell_type": "markdown",
   "metadata": {},
   "source": [
    "- Ставимо фейковим новинам лейбл 0 :"
   ]
  },
  {
   "cell_type": "code",
   "execution_count": 3,
   "metadata": {
    "execution": {
     "iopub.execute_input": "2024-05-02T00:13:24.284358Z",
     "iopub.status.busy": "2024-05-02T00:13:24.284009Z",
     "iopub.status.idle": "2024-05-02T00:13:24.294408Z",
     "shell.execute_reply": "2024-05-02T00:13:24.293394Z",
     "shell.execute_reply.started": "2024-05-02T00:13:24.284332Z"
    },
    "trusted": true
   },
   "outputs": [],
   "source": [
    "Fake['label']=0"
   ]
  },
  {
   "cell_type": "code",
   "execution_count": 4,
   "metadata": {
    "execution": {
     "iopub.execute_input": "2024-05-02T00:13:24.298034Z",
     "iopub.status.busy": "2024-05-02T00:13:24.297550Z",
     "iopub.status.idle": "2024-05-02T00:13:24.319689Z",
     "shell.execute_reply": "2024-05-02T00:13:24.318690Z",
     "shell.execute_reply.started": "2024-05-02T00:13:24.298005Z"
    },
    "trusted": true
   },
   "outputs": [
    {
     "data": {
      "text/html": [
       "<div>\n",
       "<style scoped>\n",
       "    .dataframe tbody tr th:only-of-type {\n",
       "        vertical-align: middle;\n",
       "    }\n",
       "\n",
       "    .dataframe tbody tr th {\n",
       "        vertical-align: top;\n",
       "    }\n",
       "\n",
       "    .dataframe thead th {\n",
       "        text-align: right;\n",
       "    }\n",
       "</style>\n",
       "<table border=\"1\" class=\"dataframe\">\n",
       "  <thead>\n",
       "    <tr style=\"text-align: right;\">\n",
       "      <th></th>\n",
       "      <th>title</th>\n",
       "      <th>text</th>\n",
       "      <th>subject</th>\n",
       "      <th>date</th>\n",
       "      <th>label</th>\n",
       "    </tr>\n",
       "  </thead>\n",
       "  <tbody>\n",
       "    <tr>\n",
       "      <th>0</th>\n",
       "      <td>Donald Trump Sends Out Embarrassing New Year’...</td>\n",
       "      <td>Donald Trump just couldn t wish all Americans ...</td>\n",
       "      <td>News</td>\n",
       "      <td>December 31, 2017</td>\n",
       "      <td>0</td>\n",
       "    </tr>\n",
       "    <tr>\n",
       "      <th>1</th>\n",
       "      <td>Drunk Bragging Trump Staffer Started Russian ...</td>\n",
       "      <td>House Intelligence Committee Chairman Devin Nu...</td>\n",
       "      <td>News</td>\n",
       "      <td>December 31, 2017</td>\n",
       "      <td>0</td>\n",
       "    </tr>\n",
       "    <tr>\n",
       "      <th>2</th>\n",
       "      <td>Sheriff David Clarke Becomes An Internet Joke...</td>\n",
       "      <td>On Friday, it was revealed that former Milwauk...</td>\n",
       "      <td>News</td>\n",
       "      <td>December 30, 2017</td>\n",
       "      <td>0</td>\n",
       "    </tr>\n",
       "    <tr>\n",
       "      <th>3</th>\n",
       "      <td>Trump Is So Obsessed He Even Has Obama’s Name...</td>\n",
       "      <td>On Christmas day, Donald Trump announced that ...</td>\n",
       "      <td>News</td>\n",
       "      <td>December 29, 2017</td>\n",
       "      <td>0</td>\n",
       "    </tr>\n",
       "    <tr>\n",
       "      <th>4</th>\n",
       "      <td>Pope Francis Just Called Out Donald Trump Dur...</td>\n",
       "      <td>Pope Francis used his annual Christmas Day mes...</td>\n",
       "      <td>News</td>\n",
       "      <td>December 25, 2017</td>\n",
       "      <td>0</td>\n",
       "    </tr>\n",
       "    <tr>\n",
       "      <th>...</th>\n",
       "      <td>...</td>\n",
       "      <td>...</td>\n",
       "      <td>...</td>\n",
       "      <td>...</td>\n",
       "      <td>...</td>\n",
       "    </tr>\n",
       "    <tr>\n",
       "      <th>23476</th>\n",
       "      <td>McPain: John McCain Furious That Iran Treated ...</td>\n",
       "      <td>21st Century Wire says As 21WIRE reported earl...</td>\n",
       "      <td>Middle-east</td>\n",
       "      <td>January 16, 2016</td>\n",
       "      <td>0</td>\n",
       "    </tr>\n",
       "    <tr>\n",
       "      <th>23477</th>\n",
       "      <td>JUSTICE? Yahoo Settles E-mail Privacy Class-ac...</td>\n",
       "      <td>21st Century Wire says It s a familiar theme. ...</td>\n",
       "      <td>Middle-east</td>\n",
       "      <td>January 16, 2016</td>\n",
       "      <td>0</td>\n",
       "    </tr>\n",
       "    <tr>\n",
       "      <th>23478</th>\n",
       "      <td>Sunnistan: US and Allied ‘Safe Zone’ Plan to T...</td>\n",
       "      <td>Patrick Henningsen  21st Century WireRemember ...</td>\n",
       "      <td>Middle-east</td>\n",
       "      <td>January 15, 2016</td>\n",
       "      <td>0</td>\n",
       "    </tr>\n",
       "    <tr>\n",
       "      <th>23479</th>\n",
       "      <td>How to Blow $700 Million: Al Jazeera America F...</td>\n",
       "      <td>21st Century Wire says Al Jazeera America will...</td>\n",
       "      <td>Middle-east</td>\n",
       "      <td>January 14, 2016</td>\n",
       "      <td>0</td>\n",
       "    </tr>\n",
       "    <tr>\n",
       "      <th>23480</th>\n",
       "      <td>10 U.S. Navy Sailors Held by Iranian Military ...</td>\n",
       "      <td>21st Century Wire says As 21WIRE predicted in ...</td>\n",
       "      <td>Middle-east</td>\n",
       "      <td>January 12, 2016</td>\n",
       "      <td>0</td>\n",
       "    </tr>\n",
       "  </tbody>\n",
       "</table>\n",
       "<p>23481 rows × 5 columns</p>\n",
       "</div>"
      ],
      "text/plain": [
       "                                                   title  \\\n",
       "0       Donald Trump Sends Out Embarrassing New Year’...   \n",
       "1       Drunk Bragging Trump Staffer Started Russian ...   \n",
       "2       Sheriff David Clarke Becomes An Internet Joke...   \n",
       "3       Trump Is So Obsessed He Even Has Obama’s Name...   \n",
       "4       Pope Francis Just Called Out Donald Trump Dur...   \n",
       "...                                                  ...   \n",
       "23476  McPain: John McCain Furious That Iran Treated ...   \n",
       "23477  JUSTICE? Yahoo Settles E-mail Privacy Class-ac...   \n",
       "23478  Sunnistan: US and Allied ‘Safe Zone’ Plan to T...   \n",
       "23479  How to Blow $700 Million: Al Jazeera America F...   \n",
       "23480  10 U.S. Navy Sailors Held by Iranian Military ...   \n",
       "\n",
       "                                                    text      subject  \\\n",
       "0      Donald Trump just couldn t wish all Americans ...         News   \n",
       "1      House Intelligence Committee Chairman Devin Nu...         News   \n",
       "2      On Friday, it was revealed that former Milwauk...         News   \n",
       "3      On Christmas day, Donald Trump announced that ...         News   \n",
       "4      Pope Francis used his annual Christmas Day mes...         News   \n",
       "...                                                  ...          ...   \n",
       "23476  21st Century Wire says As 21WIRE reported earl...  Middle-east   \n",
       "23477  21st Century Wire says It s a familiar theme. ...  Middle-east   \n",
       "23478  Patrick Henningsen  21st Century WireRemember ...  Middle-east   \n",
       "23479  21st Century Wire says Al Jazeera America will...  Middle-east   \n",
       "23480  21st Century Wire says As 21WIRE predicted in ...  Middle-east   \n",
       "\n",
       "                    date  label  \n",
       "0      December 31, 2017      0  \n",
       "1      December 31, 2017      0  \n",
       "2      December 30, 2017      0  \n",
       "3      December 29, 2017      0  \n",
       "4      December 25, 2017      0  \n",
       "...                  ...    ...  \n",
       "23476   January 16, 2016      0  \n",
       "23477   January 16, 2016      0  \n",
       "23478   January 15, 2016      0  \n",
       "23479   January 14, 2016      0  \n",
       "23480   January 12, 2016      0  \n",
       "\n",
       "[23481 rows x 5 columns]"
      ]
     },
     "execution_count": 4,
     "metadata": {},
     "output_type": "execute_result"
    }
   ],
   "source": [
    "Fake"
   ]
  },
  {
   "cell_type": "markdown",
   "metadata": {},
   "source": [
    "- Правдивимо новинам ставимо 1 :"
   ]
  },
  {
   "cell_type": "code",
   "execution_count": 5,
   "metadata": {
    "execution": {
     "iopub.execute_input": "2024-05-02T00:13:24.321361Z",
     "iopub.status.busy": "2024-05-02T00:13:24.320996Z",
     "iopub.status.idle": "2024-05-02T00:13:24.326630Z",
     "shell.execute_reply": "2024-05-02T00:13:24.325441Z",
     "shell.execute_reply.started": "2024-05-02T00:13:24.321333Z"
    },
    "trusted": true
   },
   "outputs": [],
   "source": [
    "true['label']=1"
   ]
  },
  {
   "cell_type": "code",
   "execution_count": 6,
   "metadata": {
    "execution": {
     "iopub.execute_input": "2024-05-02T00:13:24.328453Z",
     "iopub.status.busy": "2024-05-02T00:13:24.328054Z",
     "iopub.status.idle": "2024-05-02T00:13:24.345600Z",
     "shell.execute_reply": "2024-05-02T00:13:24.344504Z",
     "shell.execute_reply.started": "2024-05-02T00:13:24.328421Z"
    },
    "trusted": true
   },
   "outputs": [
    {
     "data": {
      "text/html": [
       "<div>\n",
       "<style scoped>\n",
       "    .dataframe tbody tr th:only-of-type {\n",
       "        vertical-align: middle;\n",
       "    }\n",
       "\n",
       "    .dataframe tbody tr th {\n",
       "        vertical-align: top;\n",
       "    }\n",
       "\n",
       "    .dataframe thead th {\n",
       "        text-align: right;\n",
       "    }\n",
       "</style>\n",
       "<table border=\"1\" class=\"dataframe\">\n",
       "  <thead>\n",
       "    <tr style=\"text-align: right;\">\n",
       "      <th></th>\n",
       "      <th>title</th>\n",
       "      <th>text</th>\n",
       "      <th>subject</th>\n",
       "      <th>date</th>\n",
       "      <th>label</th>\n",
       "    </tr>\n",
       "  </thead>\n",
       "  <tbody>\n",
       "    <tr>\n",
       "      <th>0</th>\n",
       "      <td>As U.S. budget fight looms, Republicans flip t...</td>\n",
       "      <td>WASHINGTON (Reuters) - The head of a conservat...</td>\n",
       "      <td>politicsNews</td>\n",
       "      <td>December 31, 2017</td>\n",
       "      <td>1</td>\n",
       "    </tr>\n",
       "    <tr>\n",
       "      <th>1</th>\n",
       "      <td>U.S. military to accept transgender recruits o...</td>\n",
       "      <td>WASHINGTON (Reuters) - Transgender people will...</td>\n",
       "      <td>politicsNews</td>\n",
       "      <td>December 29, 2017</td>\n",
       "      <td>1</td>\n",
       "    </tr>\n",
       "    <tr>\n",
       "      <th>2</th>\n",
       "      <td>Senior U.S. Republican senator: 'Let Mr. Muell...</td>\n",
       "      <td>WASHINGTON (Reuters) - The special counsel inv...</td>\n",
       "      <td>politicsNews</td>\n",
       "      <td>December 31, 2017</td>\n",
       "      <td>1</td>\n",
       "    </tr>\n",
       "    <tr>\n",
       "      <th>3</th>\n",
       "      <td>FBI Russia probe helped by Australian diplomat...</td>\n",
       "      <td>WASHINGTON (Reuters) - Trump campaign adviser ...</td>\n",
       "      <td>politicsNews</td>\n",
       "      <td>December 30, 2017</td>\n",
       "      <td>1</td>\n",
       "    </tr>\n",
       "    <tr>\n",
       "      <th>4</th>\n",
       "      <td>Trump wants Postal Service to charge 'much mor...</td>\n",
       "      <td>SEATTLE/WASHINGTON (Reuters) - President Donal...</td>\n",
       "      <td>politicsNews</td>\n",
       "      <td>December 29, 2017</td>\n",
       "      <td>1</td>\n",
       "    </tr>\n",
       "    <tr>\n",
       "      <th>...</th>\n",
       "      <td>...</td>\n",
       "      <td>...</td>\n",
       "      <td>...</td>\n",
       "      <td>...</td>\n",
       "      <td>...</td>\n",
       "    </tr>\n",
       "    <tr>\n",
       "      <th>21412</th>\n",
       "      <td>'Fully committed' NATO backs new U.S. approach...</td>\n",
       "      <td>BRUSSELS (Reuters) - NATO allies on Tuesday we...</td>\n",
       "      <td>worldnews</td>\n",
       "      <td>August 22, 2017</td>\n",
       "      <td>1</td>\n",
       "    </tr>\n",
       "    <tr>\n",
       "      <th>21413</th>\n",
       "      <td>LexisNexis withdrew two products from Chinese ...</td>\n",
       "      <td>LONDON (Reuters) - LexisNexis, a provider of l...</td>\n",
       "      <td>worldnews</td>\n",
       "      <td>August 22, 2017</td>\n",
       "      <td>1</td>\n",
       "    </tr>\n",
       "    <tr>\n",
       "      <th>21414</th>\n",
       "      <td>Minsk cultural hub becomes haven from authorities</td>\n",
       "      <td>MINSK (Reuters) - In the shadow of disused Sov...</td>\n",
       "      <td>worldnews</td>\n",
       "      <td>August 22, 2017</td>\n",
       "      <td>1</td>\n",
       "    </tr>\n",
       "    <tr>\n",
       "      <th>21415</th>\n",
       "      <td>Vatican upbeat on possibility of Pope Francis ...</td>\n",
       "      <td>MOSCOW (Reuters) - Vatican Secretary of State ...</td>\n",
       "      <td>worldnews</td>\n",
       "      <td>August 22, 2017</td>\n",
       "      <td>1</td>\n",
       "    </tr>\n",
       "    <tr>\n",
       "      <th>21416</th>\n",
       "      <td>Indonesia to buy $1.14 billion worth of Russia...</td>\n",
       "      <td>JAKARTA (Reuters) - Indonesia will buy 11 Sukh...</td>\n",
       "      <td>worldnews</td>\n",
       "      <td>August 22, 2017</td>\n",
       "      <td>1</td>\n",
       "    </tr>\n",
       "  </tbody>\n",
       "</table>\n",
       "<p>21417 rows × 5 columns</p>\n",
       "</div>"
      ],
      "text/plain": [
       "                                                   title  \\\n",
       "0      As U.S. budget fight looms, Republicans flip t...   \n",
       "1      U.S. military to accept transgender recruits o...   \n",
       "2      Senior U.S. Republican senator: 'Let Mr. Muell...   \n",
       "3      FBI Russia probe helped by Australian diplomat...   \n",
       "4      Trump wants Postal Service to charge 'much mor...   \n",
       "...                                                  ...   \n",
       "21412  'Fully committed' NATO backs new U.S. approach...   \n",
       "21413  LexisNexis withdrew two products from Chinese ...   \n",
       "21414  Minsk cultural hub becomes haven from authorities   \n",
       "21415  Vatican upbeat on possibility of Pope Francis ...   \n",
       "21416  Indonesia to buy $1.14 billion worth of Russia...   \n",
       "\n",
       "                                                    text       subject  \\\n",
       "0      WASHINGTON (Reuters) - The head of a conservat...  politicsNews   \n",
       "1      WASHINGTON (Reuters) - Transgender people will...  politicsNews   \n",
       "2      WASHINGTON (Reuters) - The special counsel inv...  politicsNews   \n",
       "3      WASHINGTON (Reuters) - Trump campaign adviser ...  politicsNews   \n",
       "4      SEATTLE/WASHINGTON (Reuters) - President Donal...  politicsNews   \n",
       "...                                                  ...           ...   \n",
       "21412  BRUSSELS (Reuters) - NATO allies on Tuesday we...     worldnews   \n",
       "21413  LONDON (Reuters) - LexisNexis, a provider of l...     worldnews   \n",
       "21414  MINSK (Reuters) - In the shadow of disused Sov...     worldnews   \n",
       "21415  MOSCOW (Reuters) - Vatican Secretary of State ...     worldnews   \n",
       "21416  JAKARTA (Reuters) - Indonesia will buy 11 Sukh...     worldnews   \n",
       "\n",
       "                     date  label  \n",
       "0      December 31, 2017       1  \n",
       "1      December 29, 2017       1  \n",
       "2      December 31, 2017       1  \n",
       "3      December 30, 2017       1  \n",
       "4      December 29, 2017       1  \n",
       "...                   ...    ...  \n",
       "21412    August 22, 2017       1  \n",
       "21413    August 22, 2017       1  \n",
       "21414    August 22, 2017       1  \n",
       "21415    August 22, 2017       1  \n",
       "21416    August 22, 2017       1  \n",
       "\n",
       "[21417 rows x 5 columns]"
      ]
     },
     "execution_count": 6,
     "metadata": {},
     "output_type": "execute_result"
    }
   ],
   "source": [
    "true"
   ]
  },
  {
   "cell_type": "markdown",
   "metadata": {},
   "source": [
    "- Видаляємо непотрібні колонки"
   ]
  },
  {
   "cell_type": "code",
   "execution_count": 7,
   "metadata": {
    "execution": {
     "iopub.execute_input": "2024-05-02T00:13:24.347250Z",
     "iopub.status.busy": "2024-05-02T00:13:24.346894Z",
     "iopub.status.idle": "2024-05-02T00:13:24.363886Z",
     "shell.execute_reply": "2024-05-02T00:13:24.362830Z",
     "shell.execute_reply.started": "2024-05-02T00:13:24.347209Z"
    },
    "trusted": true
   },
   "outputs": [],
   "source": [
    "Fake.drop(columns=[\"title\",\"date\",\"subject\"],inplace=True)\n",
    "true.drop(columns=[\"title\",\"date\",\"subject\"],inplace=True)"
   ]
  },
  {
   "cell_type": "code",
   "execution_count": 8,
   "metadata": {
    "execution": {
     "iopub.execute_input": "2024-05-02T00:13:24.365518Z",
     "iopub.status.busy": "2024-05-02T00:13:24.365243Z",
     "iopub.status.idle": "2024-05-02T00:13:24.376037Z",
     "shell.execute_reply": "2024-05-02T00:13:24.375120Z",
     "shell.execute_reply.started": "2024-05-02T00:13:24.365494Z"
    },
    "trusted": true
   },
   "outputs": [
    {
     "data": {
      "text/html": [
       "<div>\n",
       "<style scoped>\n",
       "    .dataframe tbody tr th:only-of-type {\n",
       "        vertical-align: middle;\n",
       "    }\n",
       "\n",
       "    .dataframe tbody tr th {\n",
       "        vertical-align: top;\n",
       "    }\n",
       "\n",
       "    .dataframe thead th {\n",
       "        text-align: right;\n",
       "    }\n",
       "</style>\n",
       "<table border=\"1\" class=\"dataframe\">\n",
       "  <thead>\n",
       "    <tr style=\"text-align: right;\">\n",
       "      <th></th>\n",
       "      <th>text</th>\n",
       "      <th>label</th>\n",
       "    </tr>\n",
       "  </thead>\n",
       "  <tbody>\n",
       "    <tr>\n",
       "      <th>0</th>\n",
       "      <td>Donald Trump just couldn t wish all Americans ...</td>\n",
       "      <td>0</td>\n",
       "    </tr>\n",
       "    <tr>\n",
       "      <th>1</th>\n",
       "      <td>House Intelligence Committee Chairman Devin Nu...</td>\n",
       "      <td>0</td>\n",
       "    </tr>\n",
       "    <tr>\n",
       "      <th>2</th>\n",
       "      <td>On Friday, it was revealed that former Milwauk...</td>\n",
       "      <td>0</td>\n",
       "    </tr>\n",
       "    <tr>\n",
       "      <th>3</th>\n",
       "      <td>On Christmas day, Donald Trump announced that ...</td>\n",
       "      <td>0</td>\n",
       "    </tr>\n",
       "    <tr>\n",
       "      <th>4</th>\n",
       "      <td>Pope Francis used his annual Christmas Day mes...</td>\n",
       "      <td>0</td>\n",
       "    </tr>\n",
       "  </tbody>\n",
       "</table>\n",
       "</div>"
      ],
      "text/plain": [
       "                                                text  label\n",
       "0  Donald Trump just couldn t wish all Americans ...      0\n",
       "1  House Intelligence Committee Chairman Devin Nu...      0\n",
       "2  On Friday, it was revealed that former Milwauk...      0\n",
       "3  On Christmas day, Donald Trump announced that ...      0\n",
       "4  Pope Francis used his annual Christmas Day mes...      0"
      ]
     },
     "execution_count": 8,
     "metadata": {},
     "output_type": "execute_result"
    }
   ],
   "source": [
    "Fake.head()"
   ]
  },
  {
   "cell_type": "code",
   "execution_count": 9,
   "metadata": {
    "execution": {
     "iopub.execute_input": "2024-05-02T00:13:24.377997Z",
     "iopub.status.busy": "2024-05-02T00:13:24.377625Z",
     "iopub.status.idle": "2024-05-02T00:13:24.390416Z",
     "shell.execute_reply": "2024-05-02T00:13:24.389269Z",
     "shell.execute_reply.started": "2024-05-02T00:13:24.377961Z"
    },
    "trusted": true
   },
   "outputs": [
    {
     "data": {
      "text/html": [
       "<div>\n",
       "<style scoped>\n",
       "    .dataframe tbody tr th:only-of-type {\n",
       "        vertical-align: middle;\n",
       "    }\n",
       "\n",
       "    .dataframe tbody tr th {\n",
       "        vertical-align: top;\n",
       "    }\n",
       "\n",
       "    .dataframe thead th {\n",
       "        text-align: right;\n",
       "    }\n",
       "</style>\n",
       "<table border=\"1\" class=\"dataframe\">\n",
       "  <thead>\n",
       "    <tr style=\"text-align: right;\">\n",
       "      <th></th>\n",
       "      <th>text</th>\n",
       "      <th>label</th>\n",
       "    </tr>\n",
       "  </thead>\n",
       "  <tbody>\n",
       "    <tr>\n",
       "      <th>0</th>\n",
       "      <td>WASHINGTON (Reuters) - The head of a conservat...</td>\n",
       "      <td>1</td>\n",
       "    </tr>\n",
       "    <tr>\n",
       "      <th>1</th>\n",
       "      <td>WASHINGTON (Reuters) - Transgender people will...</td>\n",
       "      <td>1</td>\n",
       "    </tr>\n",
       "    <tr>\n",
       "      <th>2</th>\n",
       "      <td>WASHINGTON (Reuters) - The special counsel inv...</td>\n",
       "      <td>1</td>\n",
       "    </tr>\n",
       "    <tr>\n",
       "      <th>3</th>\n",
       "      <td>WASHINGTON (Reuters) - Trump campaign adviser ...</td>\n",
       "      <td>1</td>\n",
       "    </tr>\n",
       "    <tr>\n",
       "      <th>4</th>\n",
       "      <td>SEATTLE/WASHINGTON (Reuters) - President Donal...</td>\n",
       "      <td>1</td>\n",
       "    </tr>\n",
       "  </tbody>\n",
       "</table>\n",
       "</div>"
      ],
      "text/plain": [
       "                                                text  label\n",
       "0  WASHINGTON (Reuters) - The head of a conservat...      1\n",
       "1  WASHINGTON (Reuters) - Transgender people will...      1\n",
       "2  WASHINGTON (Reuters) - The special counsel inv...      1\n",
       "3  WASHINGTON (Reuters) - Trump campaign adviser ...      1\n",
       "4  SEATTLE/WASHINGTON (Reuters) - President Donal...      1"
      ]
     },
     "execution_count": 9,
     "metadata": {},
     "output_type": "execute_result"
    }
   ],
   "source": [
    "true.head()"
   ]
  },
  {
   "cell_type": "markdown",
   "metadata": {},
   "source": [
    "- Додаємо у один датафрейм"
   ]
  },
  {
   "cell_type": "code",
   "execution_count": 10,
   "metadata": {
    "execution": {
     "iopub.execute_input": "2024-05-02T00:13:24.395741Z",
     "iopub.status.busy": "2024-05-02T00:13:24.395411Z",
     "iopub.status.idle": "2024-05-02T00:13:24.410146Z",
     "shell.execute_reply": "2024-05-02T00:13:24.409035Z",
     "shell.execute_reply.started": "2024-05-02T00:13:24.395704Z"
    },
    "trusted": true
   },
   "outputs": [
    {
     "data": {
      "text/html": [
       "<div>\n",
       "<style scoped>\n",
       "    .dataframe tbody tr th:only-of-type {\n",
       "        vertical-align: middle;\n",
       "    }\n",
       "\n",
       "    .dataframe tbody tr th {\n",
       "        vertical-align: top;\n",
       "    }\n",
       "\n",
       "    .dataframe thead th {\n",
       "        text-align: right;\n",
       "    }\n",
       "</style>\n",
       "<table border=\"1\" class=\"dataframe\">\n",
       "  <thead>\n",
       "    <tr style=\"text-align: right;\">\n",
       "      <th></th>\n",
       "      <th>text</th>\n",
       "      <th>label</th>\n",
       "    </tr>\n",
       "  </thead>\n",
       "  <tbody>\n",
       "    <tr>\n",
       "      <th>0</th>\n",
       "      <td>Donald Trump just couldn t wish all Americans ...</td>\n",
       "      <td>0</td>\n",
       "    </tr>\n",
       "    <tr>\n",
       "      <th>1</th>\n",
       "      <td>House Intelligence Committee Chairman Devin Nu...</td>\n",
       "      <td>0</td>\n",
       "    </tr>\n",
       "    <tr>\n",
       "      <th>2</th>\n",
       "      <td>On Friday, it was revealed that former Milwauk...</td>\n",
       "      <td>0</td>\n",
       "    </tr>\n",
       "    <tr>\n",
       "      <th>3</th>\n",
       "      <td>On Christmas day, Donald Trump announced that ...</td>\n",
       "      <td>0</td>\n",
       "    </tr>\n",
       "    <tr>\n",
       "      <th>4</th>\n",
       "      <td>Pope Francis used his annual Christmas Day mes...</td>\n",
       "      <td>0</td>\n",
       "    </tr>\n",
       "    <tr>\n",
       "      <th>...</th>\n",
       "      <td>...</td>\n",
       "      <td>...</td>\n",
       "    </tr>\n",
       "    <tr>\n",
       "      <th>44893</th>\n",
       "      <td>BRUSSELS (Reuters) - NATO allies on Tuesday we...</td>\n",
       "      <td>1</td>\n",
       "    </tr>\n",
       "    <tr>\n",
       "      <th>44894</th>\n",
       "      <td>LONDON (Reuters) - LexisNexis, a provider of l...</td>\n",
       "      <td>1</td>\n",
       "    </tr>\n",
       "    <tr>\n",
       "      <th>44895</th>\n",
       "      <td>MINSK (Reuters) - In the shadow of disused Sov...</td>\n",
       "      <td>1</td>\n",
       "    </tr>\n",
       "    <tr>\n",
       "      <th>44896</th>\n",
       "      <td>MOSCOW (Reuters) - Vatican Secretary of State ...</td>\n",
       "      <td>1</td>\n",
       "    </tr>\n",
       "    <tr>\n",
       "      <th>44897</th>\n",
       "      <td>JAKARTA (Reuters) - Indonesia will buy 11 Sukh...</td>\n",
       "      <td>1</td>\n",
       "    </tr>\n",
       "  </tbody>\n",
       "</table>\n",
       "<p>44898 rows × 2 columns</p>\n",
       "</div>"
      ],
      "text/plain": [
       "                                                    text  label\n",
       "0      Donald Trump just couldn t wish all Americans ...      0\n",
       "1      House Intelligence Committee Chairman Devin Nu...      0\n",
       "2      On Friday, it was revealed that former Milwauk...      0\n",
       "3      On Christmas day, Donald Trump announced that ...      0\n",
       "4      Pope Francis used his annual Christmas Day mes...      0\n",
       "...                                                  ...    ...\n",
       "44893  BRUSSELS (Reuters) - NATO allies on Tuesday we...      1\n",
       "44894  LONDON (Reuters) - LexisNexis, a provider of l...      1\n",
       "44895  MINSK (Reuters) - In the shadow of disused Sov...      1\n",
       "44896  MOSCOW (Reuters) - Vatican Secretary of State ...      1\n",
       "44897  JAKARTA (Reuters) - Indonesia will buy 11 Sukh...      1\n",
       "\n",
       "[44898 rows x 2 columns]"
      ]
     },
     "execution_count": 10,
     "metadata": {},
     "output_type": "execute_result"
    }
   ],
   "source": [
    "News=pd.concat([Fake,true],ignore_index=True)\n",
    "News"
   ]
  },
  {
   "cell_type": "markdown",
   "metadata": {},
   "source": [
    "- Перевірка для очищення"
   ]
  },
  {
   "cell_type": "code",
   "execution_count": 11,
   "metadata": {
    "execution": {
     "iopub.execute_input": "2024-05-02T00:13:24.411793Z",
     "iopub.status.busy": "2024-05-02T00:13:24.411407Z",
     "iopub.status.idle": "2024-05-02T00:13:24.443393Z",
     "shell.execute_reply": "2024-05-02T00:13:24.442363Z",
     "shell.execute_reply.started": "2024-05-02T00:13:24.411757Z"
    },
    "trusted": true
   },
   "outputs": [
    {
     "name": "stdout",
     "output_type": "stream",
     "text": [
      "<class 'pandas.core.frame.DataFrame'>\n",
      "RangeIndex: 44898 entries, 0 to 44897\n",
      "Data columns (total 2 columns):\n",
      " #   Column  Non-Null Count  Dtype \n",
      "---  ------  --------------  ----- \n",
      " 0   text    44898 non-null  object\n",
      " 1   label   44898 non-null  int64 \n",
      "dtypes: int64(1), object(1)\n",
      "memory usage: 701.7+ KB\n"
     ]
    }
   ],
   "source": [
    "News.info()"
   ]
  },
  {
   "cell_type": "code",
   "execution_count": 12,
   "metadata": {
    "execution": {
     "iopub.execute_input": "2024-05-02T00:13:24.444892Z",
     "iopub.status.busy": "2024-05-02T00:13:24.444650Z",
     "iopub.status.idle": "2024-05-02T00:13:24.460591Z",
     "shell.execute_reply": "2024-05-02T00:13:24.459471Z",
     "shell.execute_reply.started": "2024-05-02T00:13:24.444871Z"
    },
    "trusted": true
   },
   "outputs": [
    {
     "data": {
      "text/plain": [
       "text     0\n",
       "label    0\n",
       "dtype: int64"
      ]
     },
     "execution_count": 12,
     "metadata": {},
     "output_type": "execute_result"
    }
   ],
   "source": [
    "News.isnull().sum()"
   ]
  },
  {
   "cell_type": "code",
   "execution_count": 13,
   "metadata": {
    "execution": {
     "iopub.execute_input": "2024-05-02T00:13:24.462441Z",
     "iopub.status.busy": "2024-05-02T00:13:24.462050Z",
     "iopub.status.idle": "2024-05-02T00:13:24.766789Z",
     "shell.execute_reply": "2024-05-02T00:13:24.765582Z",
     "shell.execute_reply.started": "2024-05-02T00:13:24.462412Z"
    },
    "trusted": true
   },
   "outputs": [
    {
     "data": {
      "text/plain": [
       "6251"
      ]
     },
     "execution_count": 13,
     "metadata": {},
     "output_type": "execute_result"
    }
   ],
   "source": [
    "News.duplicated().sum()"
   ]
  },
  {
   "cell_type": "code",
   "execution_count": 14,
   "metadata": {
    "execution": {
     "iopub.execute_input": "2024-05-02T00:13:24.768522Z",
     "iopub.status.busy": "2024-05-02T00:13:24.768176Z",
     "iopub.status.idle": "2024-05-02T00:13:25.236845Z",
     "shell.execute_reply": "2024-05-02T00:13:25.235900Z",
     "shell.execute_reply.started": "2024-05-02T00:13:24.768492Z"
    },
    "trusted": true
   },
   "outputs": [
    {
     "data": {
      "text/plain": [
       "0"
      ]
     },
     "execution_count": 14,
     "metadata": {},
     "output_type": "execute_result"
    }
   ],
   "source": [
    "News.drop_duplicates(inplace=True)\n",
    "News.duplicated().sum()"
   ]
  },
  {
   "cell_type": "markdown",
   "metadata": {},
   "source": [
    "# preprocessing the text n the data:"
   ]
  },
  {
   "cell_type": "markdown",
   "metadata": {},
   "source": [
    "- Функція для очищення тексту від символів і повертає унікальні слова у кожному реченні:"
   ]
  },
  {
   "cell_type": "code",
   "execution_count": 16,
   "metadata": {
    "execution": {
     "iopub.execute_input": "2024-05-02T00:13:30.676324Z",
     "iopub.status.busy": "2024-05-02T00:13:30.675247Z",
     "iopub.status.idle": "2024-05-02T00:13:30.686305Z",
     "shell.execute_reply": "2024-05-02T00:13:30.685161Z",
     "shell.execute_reply.started": "2024-05-02T00:13:30.676275Z"
    },
    "trusted": true
   },
   "outputs": [],
   "source": [
    "\n",
    "def process_text(text):\n",
    "    text = re.sub(r'\\s+', ' ', text, flags=re.I) # Remove extra white space from text\n",
    "\n",
    "    text = re.sub(r'\\W', ' ', str(text)) # Remove all the special characters from text\n",
    "\n",
    "    text = re.sub(r'\\s+[a-zA-Z]\\s+', ' ', text) # Remove all single characters from text\n",
    "\n",
    "    text = re.sub(r'[^a-zA-Z\\s]', '', text) # Remove any character that isn't alphabetical\n",
    "\n",
    "    text = text.lower()\n",
    "\n",
    "    words = word_tokenize(text)\n",
    "\n",
    "    lemmatizer = WordNetLemmatizer()\n",
    "    words = [lemmatizer.lemmatize(word) for word in words]\n",
    "\n",
    "    stop_words = set(stopwords.words(\"english\"))\n",
    "    Words = [word for word in words if word not in stop_words]\n",
    "\n",
    "    Words = [word for word in Words if len(word) > 3]\n",
    "\n",
    "    indices = np.unique(Words, return_index=True)[1]\n",
    "    cleaned_text = np.array(Words)[np.sort(indices)].tolist()\n",
    "\n",
    "    return cleaned_text"
   ]
  },
  {
   "cell_type": "code",
   "execution_count": 17,
   "metadata": {
    "execution": {
     "iopub.execute_input": "2024-05-02T00:13:30.687994Z",
     "iopub.status.busy": "2024-05-02T00:13:30.687669Z",
     "iopub.status.idle": "2024-05-02T00:13:30.735984Z",
     "shell.execute_reply": "2024-05-02T00:13:30.734904Z",
     "shell.execute_reply.started": "2024-05-02T00:13:30.687968Z"
    },
    "trusted": true
   },
   "outputs": [],
   "source": [
    "x=News.drop('label',axis=1)\n",
    "y=News.label"
   ]
  },
  {
   "cell_type": "markdown",
   "metadata": {},
   "source": [
    "- Робимо список з колонок тексту:"
   ]
  },
  {
   "cell_type": "code",
   "execution_count": 18,
   "metadata": {
    "execution": {
     "iopub.execute_input": "2024-05-02T00:13:30.737495Z",
     "iopub.status.busy": "2024-05-02T00:13:30.737208Z",
     "iopub.status.idle": "2024-05-02T00:13:30.755196Z",
     "shell.execute_reply": "2024-05-02T00:13:30.754263Z",
     "shell.execute_reply.started": "2024-05-02T00:13:30.737461Z"
    },
    "trusted": true
   },
   "outputs": [],
   "source": [
    "texts=list(x['text'])"
   ]
  },
  {
   "cell_type": "markdown",
   "metadata": {},
   "source": [
    "- Викликаємо функцію для очищення тексту зі списку:"
   ]
  },
  {
   "cell_type": "code",
   "execution_count": 19,
   "metadata": {
    "execution": {
     "iopub.execute_input": "2024-05-02T00:13:30.756892Z",
     "iopub.status.busy": "2024-05-02T00:13:30.756482Z",
     "iopub.status.idle": "2024-05-02T00:18:32.300430Z",
     "shell.execute_reply": "2024-05-02T00:18:32.299286Z",
     "shell.execute_reply.started": "2024-05-02T00:13:30.756855Z"
    },
    "trusted": true
   },
   "outputs": [],
   "source": [
    "cleaned_text = [process_text(text) for text in texts]"
   ]
  },
  {
   "cell_type": "code",
   "execution_count": 20,
   "metadata": {
    "execution": {
     "iopub.execute_input": "2024-05-02T00:18:32.302287Z",
     "iopub.status.busy": "2024-05-02T00:18:32.301901Z",
     "iopub.status.idle": "2024-05-02T00:18:32.308175Z",
     "shell.execute_reply": "2024-05-02T00:18:32.307129Z",
     "shell.execute_reply.started": "2024-05-02T00:18:32.302257Z"
    },
    "trusted": true
   },
   "outputs": [
    {
     "name": "stdout",
     "output_type": "stream",
     "text": [
      "[['donald', 'trump', 'wish', 'american', 'happy', 'year', 'leave', 'instead', 'give', 'shout', 'enemy', 'hater', 'dishonest', 'fake', 'news', 'medium', 'former', 'reality', 'show', 'star', 'country', 'rapidly', 'grows', 'stronger', 'smarter', 'want', 'friend', 'supporter', 'even', 'healthy', 'president', 'angry', 'pant', 'tweeted', 'great', 'america', 'realdonaldtrump', 'december', 'tweet', 'went', 'welll', 'expect', 'kind', 'sends', 'greeting', 'like', 'despicable', 'petty', 'infantile', 'gibberish', 'lack', 'decency', 'allow', 'rise', 'gutter', 'long', 'enough', 'citizen', 'bishop', 'talbert', 'swan', 'talbertswan', 'calvin', 'calvinstowell', 'impeachment', 'would', 'make', 'also', 'accept', 'regaining', 'control', 'congress', 'miranda', 'yaver', 'mirandayaver', 'hear', 'talk', 'include', 'many', 'people', 'hate', 'wonder', 'alan', 'sandoval', 'alansandoval', 'word', 'marlene', 'koren', 'pollitt', 'korencarpenter', 'including', 'fought', 'lost', 'badly', 'know', 'love', 'nothing', 'directed', 'message', 'easter', 'thanksgiving', 'anniversary', 'twitter', 'fpaekypa', 'daniel', 'dale', 'ddale', 'holiday', 'clearly', 'presidential', 'work', 'hallmark', 'becoming', 'steven', 'goodine', 'sgoodine', 'always', 'difference', 'last', 'filter', 'breaking', 'schulze', 'thbthttt', 'apart', 'teenager', 'term', 'wendy', 'wendywhistles', 'fucking', 'rainyday', 'voted', 'hole', 'thinking', 'change', 'power', 'wrong', 'older', 'photo', 'andrew', 'burton', 'getty', 'image'], ['house', 'intelligence', 'committee', 'chairman', 'devin', 'nunes', 'going', 'assumption', 'like', 'many', 'christopher', 'steele', 'dossier', 'prompted', 'russia', 'investigation', 'lashing', 'department', 'justice', 'order', 'protect', 'trump', 'happens', 'started', 'according', 'document', 'obtained', 'york', 'time', 'former', 'campaign', 'adviser', 'george', 'papadopoulos', 'drunk', 'wine', 'revealed', 'knowledge', 'russian', 'opposition', 'research', 'hillary', 'clinton', 'covfefe', 'administration', 'alleged', 'much', 'larger', 'role', 'none', 'damning', 'drunken', 'fool', 'coffee', 'help', 'arrange', 'meeting', 'president', 'abdel', 'fattah', 'sisi', 'egypt', 'month', 'election', 'known', 'aide', 'world', 'leader', 'team', 'merely', 'australian', 'diplomat', 'alexander', 'downer', 'official', 'shopping', 'around', 'possible', 'dirt', 'democratic', 'presidential', 'nominee', 'exactly', 'said', 'night', 'kensington', 'room', 'unclear', 'report', 'state', 'later', 'leaked', 'email', 'began', 'appearing', 'online', 'passed', 'information', 'american', 'counterpart', 'four', 'current', 'foreign', 'direct', 'pleaded', 'guilty', 'lying', 'cooperating', 'witness', 'special', 'counsel', 'robert', 'mueller', 'presidency', 'badly', 'scripted', 'reality', 'show', 'photo', 'mcnamee', 'getty', 'image'], ['friday', 'revealed', 'former', 'milwaukee', 'sheriff', 'david', 'clarke', 'considered', 'homeland', 'security', 'secretary', 'donald', 'trump', 'administration', 'email', 'scandal', 'january', 'brief', 'plane', 'fellow', 'passenger', 'black', 'later', 'detained', 'police', 'reason', 'whatsoever', 'except', 'maybe', 'feeling', 'hurt', 'messaged', 'stop', 'deplaned', 'search', 'warrant', 'executed', 'exchange', 'calling', 'fake', 'news', 'even', 'though', 'copy', 'internet', 'unintimidated', 'medium', 'attempt', 'smear', 'discredit', 'report', 'designed', 'silence', 'tweeted', 'continue', 'poke', 'sharp', 'stick', 'bitch', 'slap', 'scum', 'attacked', 'better', 'people', 'maga', 'twitter', 'xtzwpdub', 'sheriffclarke', 'december', 'breaking', 'lying', 'make', 'antidote', 'right', 'punch', 'nose', 'taste', 'blood', 'nothing', 'bully', 'like', 'attention', 'give', 'neverbackdown', 'tnypshcr', 'called', 'local', 'newspaper', 'chose', 'file', 'charge', 'time', 'mean', 'especially', 'month', 'decision', 'filed', 'http', 'zcbycwpb', 'keithleblanc', 'hope', 'rest', 'village', 'implicated', 'kirk', 'ketchum', 'kirkketchum', 'slaw', 'baked', 'potato', 'french', 'fwfxszupxy', 'immigration', 'altuscis', 'ymsobljfxu', 'pendulum', 'swinger', 'pendulumswngr', 'friend', 'stand', 'someone', 'made', 'chris', 'jackson', 'chriscjackson', 'masterful', 'pshop', 'seem', 'never', 'tire', 'think', 'steely', 'resolve', 'visible', 'dwrkzezv', 'mohney', 'chrismohney', 'indicating', 'finger', 'many', 'died', 'jail', 'short', 'dipshit', 'barinholtz', 'ikebarinholtz', 'rofl', 'tough', 'flair', 'ulcfddhkdy', 'kellmecrazy', 'kelmoonface', 'edgy', 'buddy', 'mrssmh', 'break', 'applebees', 'aaron', 'feltrrr', 'trying', 'earn', 'still', 'relevant', 'badge', 'circusrebel', 'circusdrew', 'sure', 'hydrate', 'drink', 'water', 'rumored', 'prisoner', 'denied', 'prison', 'official', 'robert', 'klinc', 'robertklinc', 'terrill', 'thomas', 'year', 'thirst', 'county', 'cell', 'april', 'victim', 'homicide', 'thought', 'point', 'repeated', 'enough', 'photo', 'spencer', 'platt', 'getty', 'image'], ['christmas', 'donald', 'trump', 'announced', 'would', 'back', 'work', 'following', 'golfing', 'fourth', 'former', 'reality', 'show', 'star', 'blasted', 'president', 'barack', 'obama', 'playing', 'golf', 'track', 'outpace', 'number', 'game', 'predecessor', 'played', 'updated', 'tracker', 'appearance', 'property', 'round', 'including', 'today', 'pace', 'first', 'term', 'total', 'july', 'next', 'year', 'http', 'fgvacxrtj', 'twitter', 'gemcjqtbh', 'philip', 'bump', 'pbump', 'december', 'make', 'washington', 'post', 'reporter', 'discovered', 'website', 'really', 'weird', 'everything', 'administration', 'bizarre', 'coding', 'contained', 'reference', 'unlike', 'working', 'problem', 'course', 'however', 'done', 'correctly', 'spent', 'several', 'coded', 'serve', 'message', 'event', 'internal', 'server', 'error', 'zrwpymxrcz', 'wiqsqnnzw', 'christopher', 'ingraham', 'cingraham', 'snippet', 'code', 'appears', 'dkhwalhb', 'page', 'footer', 'paid', 'oazdtb', 'also', 'ayblgmkz', 'others', 'noted', 'thread', 'clear', 'ever', 'actually', 'display', 'know', 'called', 'deleted', 'update', 'removed', 'fixed', 'javascript', 'still', 'since', 'actual', 'presumably', 'different', 'zdmyqsmy', 'suggests', 'someone', 'either', 'admin', 'sensitive', 'enough', 'issue', 'away', 'quickly', 'people', 'noticed', 'idea', 'much', 'love', 'email', 'exchange', 'cked', 'best', 'part', 'using', 'assignment', 'operator', 'mean', 'never', 'look', 'line', 'errorcode', 'always', 'twtrsux', 'coder', 'nobody', 'surprised', 'peterson', 'timrpeterson', 'obsessed', 'name', 'even', 'photo', 'raedle', 'getty', 'image'], ['pope', 'francis', 'used', 'annual', 'christmas', 'message', 'rebuke', 'donald', 'trump', 'without', 'even', 'mentioning', 'name', 'delivered', 'member', 'united', 'nation', 'condemned', 'move', 'recognize', 'jerusalem', 'capital', 'israel', 'pontiff', 'prayed', 'monday', 'peaceful', 'coexistence', 'state', 'within', 'mutually', 'agreed', 'internationally', 'recognized', 'border', 'jesus', 'child', 'middle', 'east', 'continue', 'suffer', 'growing', 'tension', 'israeli', 'palestinian', 'said', 'festive', 'lord', 'peace', 'holy', 'land', 'pray', 'resume', 'dialogue', 'prevail', 'party', 'negotiated', 'solution', 'finally', 'reached', 'went', 'plead', 'acceptance', 'refugee', 'forced', 'home', 'issue', 'continues', 'fight', 'place', 'analogy', 'today', 'wind', 'blowing', 'world', 'outdated', 'model', 'development', 'produce', 'human', 'societal', 'environmental', 'decline', 'invite', 'focus', 'sign', 'face', 'little', 'especially', 'like', 'know', 'well', 'pain', 'welcomed', 'hard', 'head', 'added', 'heart', 'closed', 'bethlehem', 'mary', 'joseph', 'immigrant', 'struggled', 'find', 'safe', 'stay', 'leave', 'people', 'comfortable', 'easy', 'journey', 'young', 'couple', 'full', 'hope', 'expectation', 'born', 'step', 'weighed', 'uncertainty', 'danger', 'attend', 'behind', 'many', 'footstep', 'hidden', 'sunday', 'track', 'entire', 'family', 'million', 'person', 'choose', 'away', 'driven', 'dear', 'amen', 'photo', 'christopher', 'furlong', 'getty', 'image'], ['number', 'case', 'brutalizing', 'killing', 'people', 'color', 'seems', 'another', 'need', 'shared', 'wide', 'alabama', 'woman', 'name', 'angela', 'williams', 'graphic', 'photo', 'lying', 'hospital', 'beaten', 'fractured', 'face', 'facebook', 'unacceptable', 'unclear', 'police', 'custody', 'sort', 'altercation', 'resulted', 'arrest', 'realize', 'detail', 'matter', 'supposed', 'beat', 'brutalize', 'post', 'express', 'hope', 'body', 'camera', 'beating', 'think', 'know', 'kind', 'convenient', 'malfunction', 'explain', 'away', 'lack', 'existence', 'dash', 'footage', 'clearly', 'brutal', 'hell', 'could', 'even', 'described', 'attempted', 'murder', 'something', 'tell', 'young', 'never', 'without', 'troy', 'finest', 'decided', 'appropriate', 'treatment', 'perceived', 'crime', 'might', 'completely', 'jail', 'long', 'time', 'paid', 'vacation', 'force', 'investigates', 'officer', 'returned', 'duty', 'posthaste', 'folk', 'black', 'life', 'would', 'happened', 'white', 'please', 'share', 'stay', 'tuned', 'addicting', 'info', 'update', 'featured', 'image', 'david', 'mcnew', 'stringer', 'getty'], ['donald', 'trump', 'spent', 'good', 'portion', 'golf', 'club', 'marking', 'done', 'since', 'taking', 'oath', 'office', 'must', 'game', 'lashed', 'deputy', 'director', 'andrew', 'mccabe', 'twitter', 'following', 'report', 'saying', 'plan', 'retire', 'month', 'follows', 'testimony', 'front', 'congressional', 'committee', 'week', 'well', 'mounting', 'criticism', 'republican', 'regarding', 'russia', 'probe', 'naturally', 'attacked', 'charge', 'along', 'leakin', 'james', 'comey', 'phony', 'hillary', 'clinton', 'investigation', 'including', 'illegally', 'deleted', 'email', 'given', 'wife', 'campaign', 'puppet', 'tweeted', 'realdonaldtrump', 'december', 'stop', 'racing', 'clock', 'full', 'benefit', 'lawyer', 'baker', 'reassigned', 'according', 'foxnews', 'intel', 'disposal', 'getting', 'information', 'news', 'career', 'fight', 'terrorism', 'called', 'president', 'fact', 'checked', 'claim', 'receiving', 'politifact', 'noted', 'late', 'july', 'tweet', 'significant', 'distortion', 'implication', 'political', 'favor', 'make', 'much', 'sense', 'look', 'evidence', 'rated', 'mostly', 'false', 'repeat', 'know', 'supporter', 'believe', 'without', 'bothering', 'google', 'still', 'though', 'photo', 'zach', 'gibson', 'pool', 'getty', 'image'], ['wake', 'another', 'court', 'decision', 'derailed', 'donald', 'trump', 'plan', 'muslim', 'entering', 'united', 'state', 'york', 'time', 'published', 'report', 'saturday', 'morning', 'detailing', 'president', 'frustration', 'getting', 'back', 'according', 'article', 'june', 'stomped', 'oval', 'office', 'furious', 'travel', 'thought', 'would', 'implemented', 'fully', 'place', 'instead', 'fumed', 'visa', 'already', 'issued', 'immigrant', 'rate', 'friend', 'calling', 'looked', 'like', 'fool', 'making', 'broad', 'pronouncement', 'began', 'reading', 'document', 'advisor', 'noted', 'white', 'supremacist', 'stephen', 'miller', 'handed', 'meeting', 'cabinet', 'page', 'listed', 'many', 'year', 'included', 'afghanistan', 'country', 'haiti', 'also', 'nigeria', 'sensing', 'pattern', 'expressed', 'dismay', 'witness', 'room', 'spoke', 'condition', 'anonymity', 'interviewed', 'along', 'three', 'dozen', 'others', 'called', 'fault', 'read', 'terrorist', 'people', 'never', 'glory', 'america', 'despite', 'extensive', 'research', 'done', 'newspaper', 'house', 'course', 'denies', 'language', 'used', 'given', 'racist', 'history', 'blatant', 'nationalism', 'surprise', 'freedom', 'information', 'request', 'turned', 'question', 'statement', 'printed', 'inline', 'commentary', 'punctuate', 'anger', 'responsible', 'american', 'carnage', 'speech', 'delivered', 'inauguration', 'menace', 'represent', 'anything', 'stand', 'hope', 'indictment', 'robert', 'mueller', 'speak', 'featured', 'image', 'chris', 'kleponis', 'pool', 'getty'], ['many', 'people', 'raised', 'alarm', 'regarding', 'fact', 'donald', 'trump', 'dangerously', 'close', 'becoming', 'autocrat', 'thing', 'democracy', 'become', 'autocracy', 'right', 'nose', 'often', 'look', 'like', 'beginning', 'phase', 'explained', 'republican', 'david', 'frum', 'couple', 'month', 'presidency', 'piece', 'atlantic', 'called', 'build', 'really', 'critically', 'happening', 'systematic', 'discrediting', 'vital', 'institution', 'free', 'press', 'federal', 'bureau', 'investigation', 'well', 'direct', 'weaponization', 'department', 'justice', 'order', 'former', 'political', 'opponent', 'democratic', 'nominee', 'hillary', 'clinton', 'making', 'chamber', 'congress', 'house', 'representative', 'already', 'rogue', 'band', 'running', 'parallel', 'official', 'russian', 'collusion', 'explicit', 'intent', 'undermining', 'idea', 'could', 'possibly', 'done', 'anything', 'wrong', 'swing', 'election', 'favor', 'starter', 'united', 'nation', 'ambassador', 'nikki', 'haley', 'bully', 'threaten', 'country', 'voted', 'decision', 'change', 'policy', 'come', 'recognition', 'jerusalem', 'capital', 'jewish', 'state', 'expert', 'usually', 'quite', 'measured', 'enough', 'autocratic', 'antic', 'director', 'john', 'brennan', 'seasoned', 'took', 'favorite', 'platform', 'twitter', 'blasted', 'admin', 'threat', 'retaliate', 'exercise', 'sovereign', 'oppose', 'position', 'beyond', 'outrageous', 'show', 'realdonaldtrump', 'expects', 'blind', 'loyalty', 'subservience', 'everyone', 'quality', 'found', 'narcissistic', 'vengeful', 'johnbrennan', 'december', 'correct', 'course', 'behaving', 'asleep', 'dangerous', 'greatest', 'fabric', 'republic', 'american', 'president', 'fellow', 'know', 'check', 'supposed', 'time', 'flip', 'senate', 'resist', 'meantime', 'want', 'save', 'devolving', 'something', 'russia', 'north', 'korea', 'america', 'always', 'featured', 'image', 'brendan', 'smialowski', 'getty'], ['might', 'thought', 'break', 'watching', 'people', 'kiss', 'donald', 'trump', 'stroke', 'nauseam', 'group', 'creates', 'nothing', 'even', 'exact', 'thing', 'america', 'first', 'policy', 'release', 'called', 'thank', 'president', 'christmas', 'well', 'threw', 'little', 'mouth', 'trying', 'watch', 'basically', 'spot', 'fawning', 'stuff', 'actually', 'done', 'includes', 'scene', 'girl', 'thanking', 'bringing', 'back', 'merry', 'never', 'went', 'away', 'video', 'obama', 'saying', 'thanks', 'cutting', 'everyday', 'american', 'everywhere', 'great', 'awesome', 'best', 'nobody', 'ever', 'breaking', 'kind', 'record', 'every', 'believe', 'anyway', 'word', 'propaganda', 'come', 'mind', 'literal', 'promoting', 'someone', 'need', 'promotion', 'anymore', 'bullshit', 'magas', 'kowtowing', 'orange', 'hitler', 'disgusting', 'frightening', 'harm', 'unfortunately', 'take', 'obscene', 'amount', 'pain', 'open', 'duped', 'hairdo', 'ongoing', 'adoration', 'unbecoming', 'office', 'vile', 'featured', 'image', 'drago', 'pool', 'getty']]\n"
     ]
    }
   ],
   "source": [
    "print(cleaned_text[:10])"
   ]
  },
  {
   "cell_type": "markdown",
   "metadata": {},
   "source": [
    "# Розділяємо тексти і лейбли від фейкових і справжніх новин:"
   ]
  },
  {
   "cell_type": "code",
   "execution_count": 21,
   "metadata": {
    "execution": {
     "iopub.execute_input": "2024-05-02T00:18:32.309786Z",
     "iopub.status.busy": "2024-05-02T00:18:32.309451Z",
     "iopub.status.idle": "2024-05-02T00:18:32.340250Z",
     "shell.execute_reply": "2024-05-02T00:18:32.339027Z",
     "shell.execute_reply.started": "2024-05-02T00:18:32.309758Z"
    },
    "trusted": true
   },
   "outputs": [],
   "source": [
    "from sklearn.model_selection import train_test_split\n",
    "X_train, X_test, y_train, y_test = train_test_split(cleaned_text, y, test_size=0.2, random_state=42)"
   ]
  },
  {
   "cell_type": "markdown",
   "metadata": {},
   "source": [
    "- Токенізуємо усі слова у даних і трансформуємо до речень:"
   ]
  },
  {
   "cell_type": "code",
   "execution_count": 22,
   "metadata": {
    "execution": {
     "iopub.execute_input": "2024-05-02T00:18:32.341969Z",
     "iopub.status.busy": "2024-05-02T00:18:32.341610Z",
     "iopub.status.idle": "2024-05-02T00:18:53.345116Z",
     "shell.execute_reply": "2024-05-02T00:18:53.344223Z",
     "shell.execute_reply.started": "2024-05-02T00:18:32.341939Z"
    },
    "trusted": true
   },
   "outputs": [
    {
     "name": "stderr",
     "output_type": "stream",
     "text": [
      "2024-05-02 00:18:34.476402: E external/local_xla/xla/stream_executor/cuda/cuda_dnn.cc:9261] Unable to register cuDNN factory: Attempting to register factory for plugin cuDNN when one has already been registered\n",
      "2024-05-02 00:18:34.476527: E external/local_xla/xla/stream_executor/cuda/cuda_fft.cc:607] Unable to register cuFFT factory: Attempting to register factory for plugin cuFFT when one has already been registered\n",
      "2024-05-02 00:18:34.609417: E external/local_xla/xla/stream_executor/cuda/cuda_blas.cc:1515] Unable to register cuBLAS factory: Attempting to register factory for plugin cuBLAS when one has already been registered\n"
     ]
    },
    {
     "name": "stdout",
     "output_type": "stream",
     "text": [
      "the size of vocab = 91495\n"
     ]
    }
   ],
   "source": [
    "from tensorflow.keras.preprocessing.text import Tokenizer\n",
    "from tensorflow.keras.preprocessing.sequence import pad_sequences\n",
    "\n",
    "\n",
    "tokenizer = Tokenizer()\n",
    "tokenizer.fit_on_texts(X_train)\n",
    "word_idx = tokenizer.word_index  # Corrected syntax for accessing word index\n",
    "v = len(word_idx)\n",
    "print(\"the size of vocab =\", v)  # Corrected spacing\n",
    "X_train = tokenizer.texts_to_sequences(X_train)\n",
    "X_test = tokenizer.texts_to_sequences(X_test)\n"
   ]
  },
  {
   "cell_type": "markdown",
   "metadata": {},
   "source": [
    "- Робимо кожне речення довжини 150, якщо речення меншої довжити, ми заповнюємо його нулями, якщо більше, видаляємо решту речення:"
   ]
  },
  {
   "cell_type": "markdown",
   "metadata": {},
   "source": []
  },
  {
   "cell_type": "code",
   "execution_count": 23,
   "metadata": {
    "execution": {
     "iopub.execute_input": "2024-05-02T00:18:53.346943Z",
     "iopub.status.busy": "2024-05-02T00:18:53.346385Z",
     "iopub.status.idle": "2024-05-02T00:18:53.896981Z",
     "shell.execute_reply": "2024-05-02T00:18:53.896099Z",
     "shell.execute_reply.started": "2024-05-02T00:18:53.346917Z"
    },
    "trusted": true
   },
   "outputs": [],
   "source": [
    "from tensorflow.keras.preprocessing.sequence import pad_sequences\n",
    "\n",
    "maxlen = 150\n",
    "X_train = pad_sequences(X_train,maxlen=maxlen)\n",
    "X_test = pad_sequences(X_test,maxlen=maxlen)\n",
    "\n"
   ]
  },
  {
   "cell_type": "code",
   "execution_count": 24,
   "metadata": {
    "execution": {
     "iopub.execute_input": "2024-05-02T00:18:53.898604Z",
     "iopub.status.busy": "2024-05-02T00:18:53.898311Z",
     "iopub.status.idle": "2024-05-02T00:18:53.909862Z",
     "shell.execute_reply": "2024-05-02T00:18:53.908753Z",
     "shell.execute_reply.started": "2024-05-02T00:18:53.898580Z"
    },
    "trusted": true
   },
   "outputs": [
    {
     "data": {
      "text/plain": [
       "label\n",
       "1    21192\n",
       "0    17455\n",
       "Name: count, dtype: int64"
      ]
     },
     "execution_count": 24,
     "metadata": {},
     "output_type": "execute_result"
    }
   ],
   "source": [
    "y.value_counts()"
   ]
  },
  {
   "cell_type": "markdown",
   "metadata": {},
   "source": [
    "- build the model"
   ]
  },
  {
   "cell_type": "code",
   "execution_count": 25,
   "metadata": {
    "execution": {
     "iopub.execute_input": "2024-05-02T00:18:53.911750Z",
     "iopub.status.busy": "2024-05-02T00:18:53.911373Z",
     "iopub.status.idle": "2024-05-02T00:18:53.926014Z",
     "shell.execute_reply": "2024-05-02T00:18:53.925082Z",
     "shell.execute_reply.started": "2024-05-02T00:18:53.911720Z"
    },
    "trusted": true
   },
   "outputs": [],
   "source": [
    "from keras.models import Sequential\n",
    "from keras.layers import Embedding, LSTM, Dense,Input,GlobalMaxPooling1D,Dropout\n",
    "from tensorflow.keras.models import Model\n",
    "from keras import optimizers\n",
    "import numpy as np\n",
    "from tensorflow.keras.optimizers import Adam\n",
    "\n"
   ]
  },
  {
   "cell_type": "code",
   "execution_count": 46,
   "metadata": {
    "execution": {
     "iopub.execute_input": "2024-05-02T00:35:51.251253Z",
     "iopub.status.busy": "2024-05-02T00:35:51.250855Z",
     "iopub.status.idle": "2024-05-02T00:35:51.325844Z",
     "shell.execute_reply": "2024-05-02T00:35:51.324919Z",
     "shell.execute_reply.started": "2024-05-02T00:35:51.251224Z"
    },
    "trusted": true
   },
   "outputs": [],
   "source": [
    "inputt=Input(shape=(maxlen,))\n",
    "learning_rate = 0.0001\n",
    "x=Embedding(v+1,100)(inputt)\n",
    "x = Dropout(0.5)(x)\n",
    "x = LSTM(150,return_sequences=True)(x)\n",
    "x = Dropout(0.5)(x)\n",
    "x = GlobalMaxPooling1D()(x)\n",
    "x = Dense(64, activation='relu')(x)\n",
    "x = Dropout(0.5)(x)\n",
    "x = Dense(2, activation='softmax')(x)\n",
    "\n",
    "model = Model(inputt, x)\n",
    "\n",
    "# Define optimizer with specified learning rate\n",
    "optimizer = Adam(learning_rate=learning_rate)\n",
    "\n",
    "model.compile(optimizer=optimizer, loss='categorical_crossentropy', metrics=['accuracy'])\n"
   ]
  },
  {
   "cell_type": "markdown",
   "metadata": {},
   "source": [
    "-Створюємо label encoder до лейблів для передачі у модель:"
   ]
  },
  {
   "cell_type": "code",
   "execution_count": 27,
   "metadata": {
    "execution": {
     "iopub.execute_input": "2024-05-02T00:18:55.208897Z",
     "iopub.status.busy": "2024-05-02T00:18:55.208590Z",
     "iopub.status.idle": "2024-05-02T00:18:55.217731Z",
     "shell.execute_reply": "2024-05-02T00:18:55.216665Z",
     "shell.execute_reply.started": "2024-05-02T00:18:55.208872Z"
    },
    "trusted": true
   },
   "outputs": [],
   "source": [
    "from sklearn.preprocessing import LabelEncoder\n",
    "\n",
    "label_encoder = LabelEncoder()\n",
    "y_train_encoded = label_encoder.fit_transform(y_train)\n",
    "y_test_encoded = label_encoder.transform(y_test)\n"
   ]
  },
  {
   "cell_type": "markdown",
   "metadata": {},
   "source": [
    "Трансформуємо до categorical"
   ]
  },
  {
   "cell_type": "code",
   "execution_count": 28,
   "metadata": {
    "execution": {
     "iopub.execute_input": "2024-05-02T00:18:55.223270Z",
     "iopub.status.busy": "2024-05-02T00:18:55.222890Z",
     "iopub.status.idle": "2024-05-02T00:18:55.230204Z",
     "shell.execute_reply": "2024-05-02T00:18:55.229265Z",
     "shell.execute_reply.started": "2024-05-02T00:18:55.223227Z"
    },
    "trusted": true
   },
   "outputs": [],
   "source": [
    "import tensorflow as tf\n",
    "\n",
    "y_train_one_hot = tf.keras.utils.to_categorical(y_train_encoded)\n",
    "y_test_one_hot = tf.keras.utils.to_categorical(y_test_encoded)"
   ]
  },
  {
   "cell_type": "markdown",
   "metadata": {},
   "source": [
    "# Тренуємо модель:"
   ]
  },
  {
   "cell_type": "code",
   "execution_count": 47,
   "metadata": {
    "execution": {
     "iopub.execute_input": "2024-05-02T00:35:55.134177Z",
     "iopub.status.busy": "2024-05-02T00:35:55.133726Z",
     "iopub.status.idle": "2024-05-02T00:39:51.542317Z",
     "shell.execute_reply": "2024-05-02T00:39:51.541266Z",
     "shell.execute_reply.started": "2024-05-02T00:35:55.134143Z"
    },
    "trusted": true
   },
   "outputs": [
    {
     "name": "stdout",
     "output_type": "stream",
     "text": [
      "Epoch 1/15\n",
      "\u001b[1m967/967\u001b[0m \u001b[32m━━━━━━━━━━━━━━━━━━━━\u001b[0m\u001b[37m\u001b[0m \u001b[1m18s\u001b[0m 16ms/step - accuracy: 0.6813 - loss: 0.5380 - val_accuracy: 0.9648 - val_loss: 0.1375\n",
      "Epoch 2/15\n",
      "\u001b[1m967/967\u001b[0m \u001b[32m━━━━━━━━━━━━━━━━━━━━\u001b[0m\u001b[37m\u001b[0m \u001b[1m16s\u001b[0m 16ms/step - accuracy: 0.9734 - loss: 0.0869 - val_accuracy: 0.9767 - val_loss: 0.1057\n",
      "Epoch 3/15\n",
      "\u001b[1m967/967\u001b[0m \u001b[32m━━━━━━━━━━━━━━━━━━━━\u001b[0m\u001b[37m\u001b[0m \u001b[1m15s\u001b[0m 16ms/step - accuracy: 0.9886 - loss: 0.0386 - val_accuracy: 0.9750 - val_loss: 0.0798\n",
      "Epoch 4/15\n",
      "\u001b[1m967/967\u001b[0m \u001b[32m━━━━━━━━━━━━━━━━━━━━\u001b[0m\u001b[37m\u001b[0m \u001b[1m16s\u001b[0m 16ms/step - accuracy: 0.9938 - loss: 0.0230 - val_accuracy: 0.9788 - val_loss: 0.0702\n",
      "Epoch 5/15\n",
      "\u001b[1m967/967\u001b[0m \u001b[32m━━━━━━━━━━━━━━━━━━━━\u001b[0m\u001b[37m\u001b[0m \u001b[1m16s\u001b[0m 16ms/step - accuracy: 0.9958 - loss: 0.0161 - val_accuracy: 0.9772 - val_loss: 0.0621\n",
      "Epoch 6/15\n",
      "\u001b[1m967/967\u001b[0m \u001b[32m━━━━━━━━━━━━━━━━━━━━\u001b[0m\u001b[37m\u001b[0m \u001b[1m16s\u001b[0m 16ms/step - accuracy: 0.9973 - loss: 0.0104 - val_accuracy: 0.9779 - val_loss: 0.0633\n",
      "Epoch 7/15\n",
      "\u001b[1m967/967\u001b[0m \u001b[32m━━━━━━━━━━━━━━━━━━━━\u001b[0m\u001b[37m\u001b[0m \u001b[1m16s\u001b[0m 16ms/step - accuracy: 0.9976 - loss: 0.0094 - val_accuracy: 0.9771 - val_loss: 0.0655\n",
      "Epoch 8/15\n",
      "\u001b[1m967/967\u001b[0m \u001b[32m━━━━━━━━━━━━━━━━━━━━\u001b[0m\u001b[37m\u001b[0m \u001b[1m16s\u001b[0m 16ms/step - accuracy: 0.9986 - loss: 0.0053 - val_accuracy: 0.9797 - val_loss: 0.0598\n",
      "Epoch 9/15\n",
      "\u001b[1m967/967\u001b[0m \u001b[32m━━━━━━━━━━━━━━━━━━━━\u001b[0m\u001b[37m\u001b[0m \u001b[1m16s\u001b[0m 16ms/step - accuracy: 0.9989 - loss: 0.0045 - val_accuracy: 0.9771 - val_loss: 0.0655\n",
      "Epoch 10/15\n",
      "\u001b[1m967/967\u001b[0m \u001b[32m━━━━━━━━━━━━━━━━━━━━\u001b[0m\u001b[37m\u001b[0m \u001b[1m16s\u001b[0m 16ms/step - accuracy: 0.9994 - loss: 0.0024 - val_accuracy: 0.9771 - val_loss: 0.0749\n",
      "Epoch 11/15\n",
      "\u001b[1m967/967\u001b[0m \u001b[32m━━━━━━━━━━━━━━━━━━━━\u001b[0m\u001b[37m\u001b[0m \u001b[1m16s\u001b[0m 16ms/step - accuracy: 0.9993 - loss: 0.0034 - val_accuracy: 0.9783 - val_loss: 0.0658\n",
      "Epoch 12/15\n",
      "\u001b[1m967/967\u001b[0m \u001b[32m━━━━━━━━━━━━━━━━━━━━\u001b[0m\u001b[37m\u001b[0m \u001b[1m16s\u001b[0m 16ms/step - accuracy: 0.9994 - loss: 0.0028 - val_accuracy: 0.9775 - val_loss: 0.0711\n",
      "Epoch 13/15\n",
      "\u001b[1m967/967\u001b[0m \u001b[32m━━━━━━━━━━━━━━━━━━━━\u001b[0m\u001b[37m\u001b[0m \u001b[1m16s\u001b[0m 16ms/step - accuracy: 0.9996 - loss: 0.0016 - val_accuracy: 0.9776 - val_loss: 0.0692\n",
      "Epoch 14/15\n",
      "\u001b[1m967/967\u001b[0m \u001b[32m━━━━━━━━━━━━━━━━━━━━\u001b[0m\u001b[37m\u001b[0m \u001b[1m16s\u001b[0m 16ms/step - accuracy: 0.9996 - loss: 0.0022 - val_accuracy: 0.9787 - val_loss: 0.0656\n",
      "Epoch 15/15\n",
      "\u001b[1m967/967\u001b[0m \u001b[32m━━━━━━━━━━━━━━━━━━━━\u001b[0m\u001b[37m\u001b[0m \u001b[1m16s\u001b[0m 16ms/step - accuracy: 0.9995 - loss: 0.0018 - val_accuracy: 0.9790 - val_loss: 0.0647\n"
     ]
    }
   ],
   "source": [
    "\n",
    "history = model.fit(X_train, y_train_one_hot, epochs=15, validation_data=(X_test, y_test_one_hot))\n"
   ]
  },
  {
   "cell_type": "code",
   "execution_count": 48,
   "metadata": {
    "execution": {
     "iopub.execute_input": "2024-05-02T00:40:00.310570Z",
     "iopub.status.busy": "2024-05-02T00:40:00.309659Z",
     "iopub.status.idle": "2024-05-02T00:40:01.054425Z",
     "shell.execute_reply": "2024-05-02T00:40:01.053154Z",
     "shell.execute_reply.started": "2024-05-02T00:40:00.310520Z"
    },
    "trusted": true
   },
   "outputs": [
    {
     "data": {
      "image/png": "[encoded data removed]",
      "text/plain": [
       "<Figure size 640x480 with 1 Axes>"
      ]
     },
     "metadata": {},
     "output_type": "display_data"
    },
    {
     "data": {
      "image/png": "[encoded data removed]",
      "text/plain": [
       "<Figure size 640x480 with 1 Axes>"
      ]
     },
     "metadata": {},
     "output_type": "display_data"
    }
   ],
   "source": [
    "import matplotlib.pyplot as plt\n",
    "\n",
    "# Plot training & validation accuracy values\n",
    "plt.plot(history.history['accuracy'])\n",
    "plt.plot(history.history['val_accuracy'])\n",
    "plt.title('Model accuracy')\n",
    "plt.xlabel('Epoch')\n",
    "plt.ylabel('Accuracy')\n",
    "plt.legend(['Train', 'Test'], loc='upper left')\n",
    "plt.show()\n",
    "\n",
    "# Plot training & validation loss values\n",
    "plt.plot(history.history['loss'])\n",
    "plt.plot(history.history['val_loss'])\n",
    "plt.title('Model loss')\n",
    "plt.xlabel('Epoch')\n",
    "plt.ylabel('Loss')\n",
    "plt.legend(['Train', 'Test'], loc='upper left')\n",
    "plt.show()\n"
   ]
  },
  {
   "cell_type": "markdown",
   "metadata": {},
   "source": [
    "# Точність:"
   ]
  },
  {
   "cell_type": "code",
   "execution_count": 49,
   "metadata": {
    "execution": {
     "iopub.execute_input": "2024-05-02T00:40:06.792348Z",
     "iopub.status.busy": "2024-05-02T00:40:06.791918Z",
     "iopub.status.idle": "2024-05-02T00:40:08.483197Z",
     "shell.execute_reply": "2024-05-02T00:40:08.481963Z",
     "shell.execute_reply.started": "2024-05-02T00:40:06.792315Z"
    },
    "trusted": true
   },
   "outputs": [
    {
     "name": "stdout",
     "output_type": "stream",
     "text": [
      "\u001b[1m242/242\u001b[0m \u001b[32m━━━━━━━━━━━━━━━━━━━━\u001b[0m\u001b[37m\u001b[0m \u001b[1m2s\u001b[0m 7ms/step - accuracy: 0.9826 - loss: 0.0561\n",
      "Test Loss: 0.06468092650175095\n",
      "Test Accuracy: 0.9790427088737488\n"
     ]
    }
   ],
   "source": [
    "# Evaluate the model on the test data\n",
    "loss, accuracy = model.evaluate(X_test, y_test_one_hot)\n",
    "\n",
    "print(\"Test Loss:\", loss)\n",
    "print(\"Test Accuracy:\", accuracy)\n"
   ]
  },
  {
   "cell_type": "code",
   "execution_count": 50,
   "metadata": {
    "execution": {
     "iopub.execute_input": "2024-05-02T00:40:14.644757Z",
     "iopub.status.busy": "2024-05-02T00:40:14.643984Z",
     "iopub.status.idle": "2024-05-02T00:40:16.447368Z",
     "shell.execute_reply": "2024-05-02T00:40:16.446212Z",
     "shell.execute_reply.started": "2024-05-02T00:40:14.644713Z"
    },
    "trusted": true
   },
   "outputs": [
    {
     "name": "stdout",
     "output_type": "stream",
     "text": [
      "\u001b[1m242/242\u001b[0m \u001b[32m━━━━━━━━━━━━━━━━━━━━\u001b[0m\u001b[37m\u001b[0m \u001b[1m1s\u001b[0m 5ms/step\n"
     ]
    },
    {
     "data": {
      "image/png": "[encoded data removed]",
      "text/plain": [
       "<Figure size 800x600 with 2 Axes>"
      ]
     },
     "metadata": {},
     "output_type": "display_data"
    }
   ],
   "source": [
    "import matplotlib.pyplot as plt\n",
    "import seaborn as sns\n",
    "from sklearn.metrics import confusion_matrix\n",
    "import numpy as np\n",
    "\n",
    "\n",
    "y_pred_probs = model.predict(X_test)\n",
    "y_pred_labels = np.argmax(y_pred_probs, axis=1)\n",
    "y_true_labels = np.argmax(y_test_one_hot, axis=1)\n",
    "conf_matrix = confusion_matrix(y_true_labels, y_pred_labels)\n",
    "plt.figure(figsize=(8, 6))\n",
    "sns.heatmap(conf_matrix, annot=True, fmt='d', cmap='Blues', \n",
    "            xticklabels=['Fake', 'Real'], \n",
    "            yticklabels=['Fake', 'Real'])\n",
    "plt.xlabel('Predicted')\n",
    "plt.ylabel('True')\n",
    "plt.title('Confusion Matrix')\n",
    "plt.show()\n"
   ]
  }
 ],
 "metadata": {
  "kaggle": {
   "accelerator": "gpu",
   "dataSources": [
    {
     "datasetId": 1520310,
     "sourceId": 2510329,
     "sourceType": "datasetVersion"
    }
   ],
   "dockerImageVersionId": 30699,
   "isGpuEnabled": true,
   "isInternetEnabled": true,
   "language": "python",
   "sourceType": "notebook"
  },
  "kernelspec": {
   "display_name": "Python 3",
   "language": "python",
   "name": "python3"
  },
  "language_info": {
   "codemirror_mode": {
    "name": "ipython",
    "version": 3
   },
   "file_extension": ".py",
   "mimetype": "text/x-python",
   "name": "python",
   "nbconvert_exporter": "python",
   "pygments_lexer": "ipython3",
   "version": "3.10.13"
  }
 },
 "nbformat": 4,
 "nbformat_minor": 4
}
